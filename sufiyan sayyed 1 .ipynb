{
 "cells": [
  {
   "cell_type": "code",
   "execution_count": 1,
   "id": "889dde34-f6a1-402c-8350-05f809f56a80",
   "metadata": {},
   "outputs": [],
   "source": [
    "name = \"Sufiyan Sayyed\""
   ]
  },
  {
   "cell_type": "code",
   "execution_count": 2,
   "id": "a2bb6d6c-beb6-440a-b155-7ae8c2a286f0",
   "metadata": {},
   "outputs": [
    {
     "data": {
      "text/plain": [
       "'Sufiyan Sayyed'"
      ]
     },
     "execution_count": 2,
     "metadata": {},
     "output_type": "execute_result"
    }
   ],
   "source": [
    "name"
   ]
  },
  {
   "cell_type": "code",
   "execution_count": 18,
   "id": "d47eeaf3-2f42-4455-ae27-c6f540c1e404",
   "metadata": {},
   "outputs": [
    {
     "data": {
      "text/plain": [
       "'SUFIYAN SAYYED'"
      ]
     },
     "execution_count": 18,
     "metadata": {},
     "output_type": "execute_result"
    }
   ],
   "source": [
    "name .upper ()"
   ]
  },
  {
   "cell_type": "code",
   "execution_count": 19,
   "id": "4ea742f2-509c-4259-bbcc-a757083d9057",
   "metadata": {},
   "outputs": [
    {
     "data": {
      "text/plain": [
       "'sufiyan sayyed'"
      ]
     },
     "execution_count": 19,
     "metadata": {},
     "output_type": "execute_result"
    }
   ],
   "source": [
    "name.lower()"
   ]
  },
  {
   "cell_type": "code",
   "execution_count": 23,
   "id": "2ab20dba-d4bb-411f-acde-5577904b3db7",
   "metadata": {},
   "outputs": [
    {
     "data": {
      "text/plain": [
       "'Sufiyan Sayyed'"
      ]
     },
     "execution_count": 23,
     "metadata": {},
     "output_type": "execute_result"
    }
   ],
   "source": [
    "name"
   ]
  },
  {
   "cell_type": "code",
   "execution_count": 24,
   "id": "ce205839-c6bd-4ec0-b938-c7c6b4c37e4f",
   "metadata": {},
   "outputs": [],
   "source": [
    "name = name .upper ()"
   ]
  },
  {
   "cell_type": "code",
   "execution_count": 25,
   "id": "89da8195-7b82-42fc-8669-e64e7b7b7f52",
   "metadata": {},
   "outputs": [
    {
     "data": {
      "text/plain": [
       "'SUFIYAN SAYYED'"
      ]
     },
     "execution_count": 25,
     "metadata": {},
     "output_type": "execute_result"
    }
   ],
   "source": [
    "name"
   ]
  },
  {
   "cell_type": "code",
   "execution_count": 26,
   "id": "882ff5a1-04b0-43c1-95a5-c6b0e5a2f079",
   "metadata": {},
   "outputs": [],
   "source": [
    "name1=\"SUFIyan SAYyed\""
   ]
  },
  {
   "cell_type": "code",
   "execution_count": 27,
   "id": "815d9012-c2a2-4a24-ac4f-561f3e1b6c3c",
   "metadata": {},
   "outputs": [
    {
     "data": {
      "text/plain": [
       "'SUFIyan SAYyed'"
      ]
     },
     "execution_count": 27,
     "metadata": {},
     "output_type": "execute_result"
    }
   ],
   "source": [
    "name1"
   ]
  },
  {
   "cell_type": "code",
   "execution_count": 32,
   "id": "5972fd22-83c0-4892-838c-e61eda833178",
   "metadata": {},
   "outputs": [
    {
     "data": {
      "text/plain": [
       "'sufiYAN sayYED'"
      ]
     },
     "execution_count": 32,
     "metadata": {},
     "output_type": "execute_result"
    }
   ],
   "source": [
    "name1.swapcase()"
   ]
  },
  {
   "cell_type": "code",
   "execution_count": 33,
   "id": "aae684f9-18ee-4164-bdc1-e90ef334927c",
   "metadata": {},
   "outputs": [
    {
     "data": {
      "text/plain": [
       "'SUFIyan SAYyed'"
      ]
     },
     "execution_count": 33,
     "metadata": {},
     "output_type": "execute_result"
    }
   ],
   "source": [
    "name1.strip()"
   ]
  },
  {
   "cell_type": "code",
   "execution_count": 34,
   "id": "84cd5162-bdf1-443e-81c0-74877e458877",
   "metadata": {},
   "outputs": [],
   "source": [
    "name2=\"    karan    jadhav    \""
   ]
  },
  {
   "cell_type": "code",
   "execution_count": 35,
   "id": "f7029a6f-722e-4e5f-8574-914998ac4644",
   "metadata": {},
   "outputs": [
    {
     "data": {
      "text/plain": [
       "'    karan    jadhav    '"
      ]
     },
     "execution_count": 35,
     "metadata": {},
     "output_type": "execute_result"
    }
   ],
   "source": [
    "name2"
   ]
  },
  {
   "cell_type": "code",
   "execution_count": 36,
   "id": "2fb50e21-8fb3-4dea-be75-5b4f4873635a",
   "metadata": {},
   "outputs": [
    {
     "data": {
      "text/plain": [
       "'karan    jadhav    '"
      ]
     },
     "execution_count": 36,
     "metadata": {},
     "output_type": "execute_result"
    }
   ],
   "source": [
    "name2.lstrip()"
   ]
  },
  {
   "cell_type": "code",
   "execution_count": 40,
   "id": "30602cbe-eeed-4db9-9d63-a98a883d4dbc",
   "metadata": {},
   "outputs": [
    {
     "data": {
      "text/plain": [
       "'    karan    jadhav'"
      ]
     },
     "execution_count": 40,
     "metadata": {},
     "output_type": "execute_result"
    }
   ],
   "source": [
    "name2.rstrip()"
   ]
  },
  {
   "cell_type": "code",
   "execution_count": 41,
   "id": "9927f8fe-2329-40de-9e75-d7324a2cb9da",
   "metadata": {},
   "outputs": [
    {
     "data": {
      "text/plain": [
       "'karan    jadhav'"
      ]
     },
     "execution_count": 41,
     "metadata": {},
     "output_type": "execute_result"
    }
   ],
   "source": [
    "name2.strip()\n"
   ]
  },
  {
   "cell_type": "code",
   "execution_count": 46,
   "id": "a70093de-ecdf-4691-805f-aa5bdad70d7f",
   "metadata": {},
   "outputs": [],
   "source": [
    "name3=\"Rehan bagwan\""
   ]
  },
  {
   "cell_type": "code",
   "execution_count": 47,
   "id": "758c7711-20a4-4736-a2ad-0f60989acf98",
   "metadata": {},
   "outputs": [
    {
     "data": {
      "text/plain": [
       "'Rehan bagwan'"
      ]
     },
     "execution_count": 47,
     "metadata": {},
     "output_type": "execute_result"
    }
   ],
   "source": [
    "name3"
   ]
  },
  {
   "cell_type": "code",
   "execution_count": 62,
   "id": "d3f25972-16d8-4964-bb3e-cbd05186efad",
   "metadata": {},
   "outputs": [
    {
     "data": {
      "text/plain": [
       "'******************************************************Rehan bagwan******************************************************'"
      ]
     },
     "execution_count": 62,
     "metadata": {},
     "output_type": "execute_result"
    }
   ],
   "source": [
    "name3.center(120, '*')"
   ]
  },
  {
   "cell_type": "code",
   "execution_count": 5,
   "id": "bf8733da-e790-46ce-abf4-e51f11c23a48",
   "metadata": {},
   "outputs": [],
   "source": [
    "name4=\"Sadik shaikh\""
   ]
  },
  {
   "cell_type": "code",
   "execution_count": 6,
   "id": "2b5e8367-f41f-45f5-8452-cbf4d65fdcd6",
   "metadata": {},
   "outputs": [
    {
     "data": {
      "text/plain": [
       "'Sadik shaikh'"
      ]
     },
     "execution_count": 6,
     "metadata": {},
     "output_type": "execute_result"
    }
   ],
   "source": [
    "name4"
   ]
  },
  {
   "cell_type": "code",
   "execution_count": 7,
   "id": "740df947-cdcb-4f3b-b48d-15fa6fa342b5",
   "metadata": {},
   "outputs": [
    {
     "data": {
      "text/plain": [
       "False"
      ]
     },
     "execution_count": 7,
     "metadata": {},
     "output_type": "execute_result"
    }
   ],
   "source": [
    "name4.islower()"
   ]
  },
  {
   "cell_type": "code",
   "execution_count": 10,
   "id": "cbb0155f-e764-4fd5-b0b7-d996d598ce6e",
   "metadata": {},
   "outputs": [],
   "source": [
    "name5=\"SADIK\""
   ]
  },
  {
   "cell_type": "code",
   "execution_count": 11,
   "id": "7c31d594-da56-4b90-8bb1-b01e0082bcb9",
   "metadata": {},
   "outputs": [
    {
     "data": {
      "text/plain": [
       "'SADIK'"
      ]
     },
     "execution_count": 11,
     "metadata": {},
     "output_type": "execute_result"
    }
   ],
   "source": [
    "name5"
   ]
  },
  {
   "cell_type": "code",
   "execution_count": 12,
   "id": "b046559e-d6b2-4d39-9e80-b2d2a7e40640",
   "metadata": {},
   "outputs": [
    {
     "data": {
      "text/plain": [
       "False"
      ]
     },
     "execution_count": 12,
     "metadata": {},
     "output_type": "execute_result"
    }
   ],
   "source": [
    "name5.islower()"
   ]
  },
  {
   "cell_type": "code",
   "execution_count": 13,
   "id": "46b60d32-8a19-430d-9c71-d14ecccb2905",
   "metadata": {},
   "outputs": [
    {
     "data": {
      "text/plain": [
       "True"
      ]
     },
     "execution_count": 13,
     "metadata": {},
     "output_type": "execute_result"
    }
   ],
   "source": [
    "name5.isupper()"
   ]
  },
  {
   "cell_type": "code",
   "execution_count": 15,
   "id": "bfad2a18-fbbb-4009-b25a-edb84cb68312",
   "metadata": {},
   "outputs": [
    {
     "data": {
      "text/plain": [
       "False"
      ]
     },
     "execution_count": 15,
     "metadata": {},
     "output_type": "execute_result"
    }
   ],
   "source": [
    "name5.isspace()"
   ]
  },
  {
   "cell_type": "code",
   "execution_count": null,
   "id": "9d4857c3-ada9-49a2-95ce-1ad128613681",
   "metadata": {},
   "outputs": [],
   "source": []
  }
 ],
 "metadata": {
  "kernelspec": {
   "display_name": "Python 3 (ipykernel)",
   "language": "python",
   "name": "python3"
  },
  "language_info": {
   "codemirror_mode": {
    "name": "ipython",
    "version": 3
   },
   "file_extension": ".py",
   "mimetype": "text/x-python",
   "name": "python",
   "nbconvert_exporter": "python",
   "pygments_lexer": "ipython3",
   "version": "3.12.4"
  }
 },
 "nbformat": 4,
 "nbformat_minor": 5
}
