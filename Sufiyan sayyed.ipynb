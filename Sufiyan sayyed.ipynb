{
 "cells": [
  {
   "cell_type": "code",
   "execution_count": 1,
   "id": "70a8b599-b5c3-47cb-86d7-f2af43512f56",
   "metadata": {},
   "outputs": [],
   "source": [
    "name = \"Prasanna babar\""
   ]
  },
  {
   "cell_type": "code",
   "execution_count": 2,
   "id": "0434edfa-34f0-4b41-9885-6c6ac2f8090e",
   "metadata": {},
   "outputs": [
    {
     "data": {
      "text/plain": [
       "'Prasanna babar'"
      ]
     },
     "execution_count": 2,
     "metadata": {},
     "output_type": "execute_result"
    }
   ],
   "source": [
    "name"
   ]
  },
  {
   "cell_type": "code",
   "execution_count": 3,
   "id": "da497bb4-7012-4284-9448-07fef7a79a45",
   "metadata": {},
   "outputs": [
    {
     "data": {
      "text/plain": [
       "'n'"
      ]
     },
     "execution_count": 3,
     "metadata": {},
     "output_type": "execute_result"
    }
   ],
   "source": [
    "name[6]"
   ]
  },
  {
   "cell_type": "code",
   "execution_count": 6,
   "id": "2743a512-e998-44a8-bc12-a4759ec0668a",
   "metadata": {},
   "outputs": [],
   "source": [
    "# Sicing Operation"
   ]
  },
  {
   "cell_type": "code",
   "execution_count": 10,
   "id": "27dd23e7-0809-4a1d-98c5-085917e430e6",
   "metadata": {},
   "outputs": [
    {
     "data": {
      "text/plain": [
       "' na'"
      ]
     },
     "execution_count": 10,
     "metadata": {},
     "output_type": "execute_result"
    }
   ],
   "source": [
    "name[-6:2:-2]"
   ]
  },
  {
   "cell_type": "code",
   "execution_count": 11,
   "id": "7412b1b4-eb1e-43da-8e96-7b7f68cd09fa",
   "metadata": {},
   "outputs": [
    {
     "data": {
      "text/plain": [
       "''"
      ]
     },
     "execution_count": 11,
     "metadata": {},
     "output_type": "execute_result"
    }
   ],
   "source": [
    "name[-5:3:1]"
   ]
  },
  {
   "cell_type": "code",
   "execution_count": 12,
   "id": "f6dd602b-07b7-4d2d-ad12-d9086487afbe",
   "metadata": {},
   "outputs": [
    {
     "data": {
      "text/plain": [
       "''"
      ]
     },
     "execution_count": 12,
     "metadata": {},
     "output_type": "execute_result"
    }
   ],
   "source": [
    "name[-9:10:-1]"
   ]
  },
  {
   "cell_type": "code",
   "execution_count": 13,
   "id": "aac17b58-fa81-45f5-8b5b-d7db0a2fce2c",
   "metadata": {},
   "outputs": [
    {
     "data": {
      "text/plain": [
       "'na ba'"
      ]
     },
     "execution_count": 13,
     "metadata": {},
     "output_type": "execute_result"
    }
   ],
   "source": [
    "name[-8:11]"
   ]
  },
  {
   "cell_type": "code",
   "execution_count": 14,
   "id": "b737fead-dc17-464e-a90f-21d3226a082e",
   "metadata": {},
   "outputs": [
    {
     "data": {
      "text/plain": [
       "'r'"
      ]
     },
     "execution_count": 14,
     "metadata": {},
     "output_type": "execute_result"
    }
   ],
   "source": [
    "name[13]"
   ]
  },
  {
   "cell_type": "code",
   "execution_count": 15,
   "id": "79784fa0-6fba-49cf-8a7e-28000ec74fcc",
   "metadata": {},
   "outputs": [
    {
     "data": {
      "text/plain": [
       "'na bab'"
      ]
     },
     "execution_count": 15,
     "metadata": {},
     "output_type": "execute_result"
    }
   ],
   "source": [
    "name[6:-2]"
   ]
  },
  {
   "cell_type": "code",
   "execution_count": 16,
   "id": "03921822-ab74-4a3b-a75c-327e3b72f47f",
   "metadata": {},
   "outputs": [
    {
     "data": {
      "text/plain": [
       "'raaar'"
      ]
     },
     "execution_count": 16,
     "metadata": {},
     "output_type": "execute_result"
    }
   ],
   "source": [
    "name[13:-14:-3]"
   ]
  },
  {
   "cell_type": "code",
   "execution_count": 17,
   "id": "0550c4a6-caa7-4aaa-8652-386536122ac1",
   "metadata": {},
   "outputs": [
    {
     "data": {
      "text/plain": [
       "'na'"
      ]
     },
     "execution_count": 17,
     "metadata": {},
     "output_type": "execute_result"
    }
   ],
   "source": [
    "name[-8:8]"
   ]
  },
  {
   "cell_type": "code",
   "execution_count": 18,
   "id": "8b16591a-66f9-43b7-ac7f-f0ae3a679250",
   "metadata": {},
   "outputs": [
    {
     "data": {
      "text/plain": [
       "''"
      ]
     },
     "execution_count": 18,
     "metadata": {},
     "output_type": "execute_result"
    }
   ],
   "source": [
    "name[-9:0:1]"
   ]
  },
  {
   "cell_type": "code",
   "execution_count": 19,
   "id": "75ca58cf-ba42-4ec1-a4ef-72ff9ccfe288",
   "metadata": {},
   "outputs": [
    {
     "data": {
      "text/plain": [
       "' annas'"
      ]
     },
     "execution_count": 19,
     "metadata": {},
     "output_type": "execute_result"
    }
   ],
   "source": [
    "name[-6:2:-1]"
   ]
  },
  {
   "cell_type": "code",
   "execution_count": 20,
   "id": "585df54d-e850-40f3-8dfb-3b0cdfe1ff5f",
   "metadata": {},
   "outputs": [
    {
     "data": {
      "text/plain": [
       "'anna ba'"
      ]
     },
     "execution_count": 20,
     "metadata": {},
     "output_type": "execute_result"
    }
   ],
   "source": [
    "name[-10:-3:1]"
   ]
  },
  {
   "cell_type": "code",
   "execution_count": 21,
   "id": "a39583aa-18ca-4f3d-9a98-0693829a22f7",
   "metadata": {},
   "outputs": [
    {
     "data": {
      "text/plain": [
       "'b'"
      ]
     },
     "execution_count": 21,
     "metadata": {},
     "output_type": "execute_result"
    }
   ],
   "source": [
    "name[-3:-1:2]"
   ]
  },
  {
   "cell_type": "code",
   "execution_count": 7,
   "id": "eef95e7e-74c1-4285-a05b-598fd933333f",
   "metadata": {},
   "outputs": [],
   "source": [
    " name1 = \"sufiyan sayyed\" "
   ]
  },
  {
   "cell_type": "code",
   "execution_count": 8,
   "id": "a636570b-5cf3-49b3-b5b6-e68bf287625c",
   "metadata": {},
   "outputs": [
    {
     "data": {
      "text/plain": [
       "'sufiyan sayyed'"
      ]
     },
     "execution_count": 8,
     "metadata": {},
     "output_type": "execute_result"
    }
   ],
   "source": [
    "name1"
   ]
  },
  {
   "cell_type": "code",
   "execution_count": 10,
   "id": "280be75e-b863-451a-8d24-28237dbec313",
   "metadata": {},
   "outputs": [
    {
     "data": {
      "text/plain": [
       "'deyyas nayifus'"
      ]
     },
     "execution_count": 10,
     "metadata": {},
     "output_type": "execute_result"
    }
   ],
   "source": [
    "name1[::-1]"
   ]
  },
  {
   "cell_type": "code",
   "execution_count": 11,
   "id": "0314d3c1-9595-401d-a29d-7f263bee8f05",
   "metadata": {},
   "outputs": [
    {
     "data": {
      "text/plain": [
       "'sufiyan sayyed1511'"
      ]
     },
     "execution_count": 11,
     "metadata": {},
     "output_type": "execute_result"
    }
   ],
   "source": [
    "name1+'1511'"
   ]
  },
  {
   "cell_type": "code",
   "execution_count": 12,
   "id": "fbc396cc-7896-42fd-b0c8-c381315c7b11",
   "metadata": {},
   "outputs": [
    {
     "data": {
      "text/plain": [
       "14"
      ]
     },
     "execution_count": 12,
     "metadata": {},
     "output_type": "execute_result"
    }
   ],
   "source": [
    "# find the length of name1\n",
    "len(name1)"
   ]
  },
  {
   "cell_type": "code",
   "execution_count": 13,
   "id": "4ae589f0-2be0-4071-88c7-9df2b2e75db8",
   "metadata": {},
   "outputs": [
    {
     "data": {
      "text/plain": [
       "'sufiyan sayyedsufiyan sayyedsufiyan sayyed'"
      ]
     },
     "execution_count": 13,
     "metadata": {},
     "output_type": "execute_result"
    }
   ],
   "source": [
    "name1*3"
   ]
  },
  {
   "cell_type": "code",
   "execution_count": 14,
   "id": "731fbe85-f609-4370-b3d5-c9256be676cb",
   "metadata": {},
   "outputs": [
    {
     "data": {
      "text/plain": [
       "2"
      ]
     },
     "execution_count": 14,
     "metadata": {},
     "output_type": "execute_result"
    }
   ],
   "source": [
    "name1.count('s')"
   ]
  },
  {
   "cell_type": "code",
   "execution_count": 15,
   "id": "6ae48b74-5c2b-443f-a313-2a5eae575761",
   "metadata": {},
   "outputs": [
    {
     "data": {
      "text/plain": [
       "['sufiyan ', 'yyed']"
      ]
     },
     "execution_count": 15,
     "metadata": {},
     "output_type": "execute_result"
    }
   ],
   "source": [
    "name1.split('sa')"
   ]
  },
  {
   "cell_type": "code",
   "execution_count": 16,
   "id": "bfecad68-200c-4a9a-b1c1-45bf0e1158c1",
   "metadata": {},
   "outputs": [
    {
     "data": {
      "text/plain": [
       "list"
      ]
     },
     "execution_count": 16,
     "metadata": {},
     "output_type": "execute_result"
    }
   ],
   "source": [
    "type(name1.split('a'))"
   ]
  },
  {
   "cell_type": "code",
   "execution_count": 19,
   "id": "090f1502-4c17-4588-be04-5d158f1dfce3",
   "metadata": {},
   "outputs": [],
   "source": [
    " name2 = \"Lorem Ipsum is simply dummy text of the printing and typesetting industry. Lorem Ipsum has been the industry's standard dummy text ever since the 1500s, when an unknown printer took a galley of type and scrambled it to make a type specimen book. It has survived not only five centuries, but also the leap into electronic typesetting, remaining essentially unchanged. It was popularised in the 1960s with the release of Letraset sheets containing Lorem Ipsum passages, and more recently with desktop publishing software like Aldus PageMaker including versions of Lorem Ipsum.\" "
   ]
  },
  {
   "cell_type": "code",
   "execution_count": 20,
   "id": "85bfe1ca-3621-45ff-8f99-83afb7a9d7fd",
   "metadata": {},
   "outputs": [
    {
     "data": {
      "text/plain": [
       "\"Lorem Ipsum is simply dummy text of the printing and typesetting industry. Lorem Ipsum has been the industry's standard dummy text ever since the 1500s, when an unknown printer took a galley of type and scrambled it to make a type specimen book. It has survived not only five centuries, but also the leap into electronic typesetting, remaining essentially unchanged. It was popularised in the 1960s with the release of Letraset sheets containing Lorem Ipsum passages, and more recently with desktop publishing software like Aldus PageMaker including versions of Lorem Ipsum.\""
      ]
     },
     "execution_count": 20,
     "metadata": {},
     "output_type": "execute_result"
    }
   ],
   "source": [
    "name2"
   ]
  },
  {
   "cell_type": "code",
   "execution_count": 1,
   "id": "176180c2-a023-4b95-9fd5-6bb5826fe7a4",
   "metadata": {},
   "outputs": [
    {
     "ename": "NameError",
     "evalue": "name 'name2' is not defined",
     "output_type": "error",
     "traceback": [
      "\u001b[0;31m---------------------------------------------------------------------------\u001b[0m",
      "\u001b[0;31mNameError\u001b[0m                                 Traceback (most recent call last)",
      "Cell \u001b[0;32mIn[1], line 5\u001b[0m\n\u001b[1;32m      1\u001b[0m \u001b[38;5;66;03m# Divide name2 into list of words \u001b[39;00m\n\u001b[1;32m      2\u001b[0m \u001b[38;5;66;03m# ['lorem',\u001b[39;00m\n\u001b[1;32m      3\u001b[0m \u001b[38;5;66;03m#\u001b[39;00m\n\u001b[1;32m      4\u001b[0m \u001b[38;5;66;03m#ipsum]\u001b[39;00m\n\u001b[0;32m----> 5\u001b[0m name2\u001b[38;5;241m.\u001b[39msplit(\u001b[38;5;124m'\u001b[39m\u001b[38;5;124m'\u001b[39m)\n",
      "\u001b[0;31mNameError\u001b[0m: name 'name2' is not defined"
     ]
    }
   ],
   "source": [
    "# Divide name2 into list of words \n",
    "# ['lorem',\n",
    "#\n",
    "#ipsum]\n",
    "name2.split('')"
   ]
  },
  {
   "cell_type": "code",
   "execution_count": null,
   "id": "1d729843-9cd3-4e8a-9aa1-488dce54027e",
   "metadata": {},
   "outputs": [],
   "source": []
  }
 ],
 "metadata": {
  "kernelspec": {
   "display_name": "Python 3 (ipykernel)",
   "language": "python",
   "name": "python3"
  },
  "language_info": {
   "codemirror_mode": {
    "name": "ipython",
    "version": 3
   },
   "file_extension": ".py",
   "mimetype": "text/x-python",
   "name": "python",
   "nbconvert_exporter": "python",
   "pygments_lexer": "ipython3",
   "version": "3.12.4"
  }
 },
 "nbformat": 4,
 "nbformat_minor": 5
}
