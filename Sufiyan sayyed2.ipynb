{
 "cells": [
  {
   "cell_type": "code",
   "execution_count": 1,
   "id": "f6aa5223-6abc-47a0-9f06-3e25d4d561ab",
   "metadata": {},
   "outputs": [],
   "source": [
    "l = []"
   ]
  },
  {
   "cell_type": "code",
   "execution_count": 2,
   "id": "24e0c6d5-849e-44bc-a043-a4e685553e03",
   "metadata": {},
   "outputs": [
    {
     "data": {
      "text/plain": [
       "list"
      ]
     },
     "execution_count": 2,
     "metadata": {},
     "output_type": "execute_result"
    }
   ],
   "source": [
    "type(l)"
   ]
  },
  {
   "cell_type": "code",
   "execution_count": 6,
   "id": "5eb02cd5-9aed-4893-b715-bbf1498cf922",
   "metadata": {},
   "outputs": [],
   "source": [
    "a = [1,67,88, \"Sufiyan\",76.7,True,\"rehan\",678]"
   ]
  },
  {
   "cell_type": "code",
   "execution_count": 7,
   "id": "fd244c17-226f-4ae6-aebc-337dd6460070",
   "metadata": {},
   "outputs": [
    {
     "data": {
      "text/plain": [
       "True"
      ]
     },
     "execution_count": 7,
     "metadata": {},
     "output_type": "execute_result"
    }
   ],
   "source": [
    "a[1-4]"
   ]
  },
  {
   "cell_type": "code",
   "execution_count": 14,
   "id": "a717e26d-a88e-48f3-a936-a481faa904ee",
   "metadata": {},
   "outputs": [
    {
     "data": {
      "text/plain": [
       "76.7"
      ]
     },
     "execution_count": 14,
     "metadata": {},
     "output_type": "execute_result"
    }
   ],
   "source": [
    "a[4]"
   ]
  },
  {
   "cell_type": "code",
   "execution_count": 21,
   "id": "7c725fa9-2a65-438d-af9d-cb8679c5c982",
   "metadata": {},
   "outputs": [
    {
     "data": {
      "text/plain": [
       "1"
      ]
     },
     "execution_count": 21,
     "metadata": {},
     "output_type": "execute_result"
    }
   ],
   "source": [
    "a[0]"
   ]
  },
  {
   "cell_type": "code",
   "execution_count": 23,
   "id": "717bb3da-9d73-496e-8768-2004640c95db",
   "metadata": {},
   "outputs": [
    {
     "data": {
      "text/plain": [
       "'Sufiyan'"
      ]
     },
     "execution_count": 23,
     "metadata": {},
     "output_type": "execute_result"
    }
   ],
   "source": [
    "a[-5]"
   ]
  },
  {
   "cell_type": "code",
   "execution_count": 24,
   "id": "b41a3641-8527-41d0-8fc6-1d3f8c4da716",
   "metadata": {},
   "outputs": [
    {
     "data": {
      "text/plain": [
       "678"
      ]
     },
     "execution_count": 24,
     "metadata": {},
     "output_type": "execute_result"
    }
   ],
   "source": [
    "a[-1]"
   ]
  },
  {
   "cell_type": "code",
   "execution_count": null,
   "id": "4cabedd4-2445-4079-a11a-6598d6397085",
   "metadata": {},
   "outputs": [],
   "source": []
  }
 ],
 "metadata": {
  "kernelspec": {
   "display_name": "Python 3 (ipykernel)",
   "language": "python",
   "name": "python3"
  },
  "language_info": {
   "codemirror_mode": {
    "name": "ipython",
    "version": 3
   },
   "file_extension": ".py",
   "mimetype": "text/x-python",
   "name": "python",
   "nbconvert_exporter": "python",
   "pygments_lexer": "ipython3",
   "version": "3.12.4"
  }
 },
 "nbformat": 4,
 "nbformat_minor": 5
}
